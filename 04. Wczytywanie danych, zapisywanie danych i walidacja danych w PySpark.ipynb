{
 "cells": [
  {
   "attachments": {},
   "cell_type": "markdown",
   "id": "4cf623bc-ca44-4e6a-8d12-7ea59684aacb",
   "metadata": {},
   "source": [
    "## Wczytywanie danych, zapisywanie danych i walidacja danych w PySpark\n",
    "\n",
    "source: Layla AI, *PySpark Essentials for Data Scientists (Big Data + Python)*"
   ]
  },
  {
   "cell_type": "markdown",
   "id": "9d292897-0694-433f-b469-baab394b4a15",
   "metadata": {},
   "source": [
    "## Wczytywanie danych\n",
    "\n",
    "### Dane csv\n",
    "**Source:** https://www.kaggle.com/spscientist/students-performance-in-exams"
   ]
  },
  {
   "cell_type": "code",
   "execution_count": 1,
   "id": "3f5e6395-7fd9-421f-9d9d-157306cf106d",
   "metadata": {
    "collapsed": true,
    "jupyter": {
     "outputs_hidden": true
    },
    "tags": []
   },
   "outputs": [],
   "source": [
    "import findspark\n",
    "findspark.init()\n",
    "import pyspark\n",
    "from pyspark.sql import SparkSession\n",
    "# Może chwilę potrwać\n",
    "spark = SparkSession.builder.appName(\"UczymySięSparka\").getOrCreate()\n",
    "spark\n",
    "\n",
    "# Zaczynamy od wczytania csvki\n",
    "# Dwa parametry, na które trzeba wzrócić uwagę: inferSchema & header\n",
    "\n",
    "# Some csv data\n",
    "students = spark.read.csv('StudentsPerformance.csv',inferSchema=True,header=True) #zwrócić uwagę na inferSchema i header!"
   ]
  },
  {
   "attachments": {},
   "cell_type": "markdown",
   "id": "0f280979-38d3-41a5-b0c3-5442ba724c45",
   "metadata": {},
   "source": [
    "### Pliki parquet ###\n",
    "\n",
    "Parquet to najbardziej popularny format danych w Big Data. Powód? Są bardziej skompresowane nawet niż pliki .zip."
   ]
  },
  {
   "cell_type": "code",
   "execution_count": 2,
   "id": "f277c00f-598d-4618-b281-f465c41b5ab5",
   "metadata": {},
   "outputs": [
    {
     "name": "stdout",
     "output_type": "stream",
     "text": [
      "+-------------------+---+----------+---------+----------------+------+--------------+----------------+---------+---------+---------+----------------+--------+\n",
      "|  registration_dttm| id|first_name|last_name|           email|gender|    ip_address|              cc|  country|birthdate|   salary|           title|comments|\n",
      "+-------------------+---+----------+---------+----------------+------+--------------+----------------+---------+---------+---------+----------------+--------+\n",
      "|2016-02-03 08:55:29|  1|    Amanda|   Jordan|ajordan0@com.com|Female|   1.197.201.2|6759521864920116|Indonesia| 3/8/1971| 49756.53|Internal Auditor|   1E+02|\n",
      "|2016-02-03 18:04:03|  2|    Albert|  Freeman| afreeman1@is.gd|  Male|218.111.175.34|                |   Canada|1/16/1968|150280.17|   Accountant IV|        |\n",
      "+-------------------+---+----------+---------+----------------+------+--------------+----------------+---------+---------+---------+----------------+--------+\n",
      "only showing top 2 rows\n",
      "\n"
     ]
    }
   ],
   "source": [
    "parquet = spark.read.parquet('users1.parquet')\n",
    "parquet.show(2)"
   ]
  },
  {
   "attachments": {},
   "cell_type": "markdown",
   "id": "5ef2b69d-c5de-426f-867b-4fc525c6587c",
   "metadata": {},
   "source": [
    "### Wiele plików parquet ### \n",
    "\n",
    "Większość dużych zbiorów danych będzie podzielona na mniejsze części. Używając *, można je wczytać jednym poleceniem."
   ]
  },
  {
   "cell_type": "code",
   "execution_count": 4,
   "id": "47f88ce3-448a-4bd5-a6ac-eda0d4c32a0f",
   "metadata": {},
   "outputs": [],
   "source": [
    "partitioned = spark.read.parquet('users*') #asteriks\n",
    "partitioned.show(2)"
   ]
  },
  {
   "cell_type": "markdown",
   "id": "8cba5620-6fdd-4598-a045-04bcdd6b36bf",
   "metadata": {
    "tags": []
   },
   "source": [
    "Można też zdecydować się na wczytanie tylko kilku plików ze zbioru: "
   ]
  },
  {
   "cell_type": "code",
   "execution_count": null,
   "id": "f7e006ab-d3bb-48a5-b5dd-4ee2689feb47",
   "metadata": {
    "collapsed": true,
    "jupyter": {
     "outputs_hidden": true
    },
    "tags": []
   },
   "outputs": [],
   "source": [
    "users1_2 = spark.read.option(\"basePath\").parquet('users1.parquet', 'users2.parquet') #path jest odwołaniem co current working directory\n",
    "users1_2.show()"
   ]
  },
  {
   "attachments": {},
   "cell_type": "markdown",
   "id": "059c9e2f-b285-4b5f-a285-c10e64bc8a40",
   "metadata": {},
   "source": [
    "### Walidacja danych\n",
    "\n",
    "Poniżej przykłady jak sprawdzić czy dane zostały załadowane poprawnie. Zaczynamy od podstaw (poprawne typy zmiennych, poprawnie załadowane wartości etc.), do walidacji pod modelowanie jeszcze dotrzemy."
   ]
  },
  {
   "cell_type": "code",
   "execution_count": null,
   "id": "417c6ae4-b2c6-465d-bef1-32cdbadf21ff",
   "metadata": {},
   "outputs": [],
   "source": [
    "# Podgląd ramki - sparkowy\n",
    "students.show(3)"
   ]
  },
  {
   "cell_type": "code",
   "execution_count": null,
   "id": "9142b1a6-1843-4c53-b30c-a71414169dc1",
   "metadata": {},
   "outputs": [],
   "source": [
    "# Podgląd ramki poprzez wykorzystanie pandas API\n",
    "students.limit(5).toPandas()"
   ]
  },
  {
   "cell_type": "code",
   "execution_count": null,
   "id": "52e02358-0420-48db-8e93-a962f1f97bc3",
   "metadata": {},
   "outputs": [
    {
     "name": "stdout",
     "output_type": "stream",
     "text": [
      "<class 'pyspark.sql.dataframe.DataFrame'>\n",
      "<class 'pandas.core.frame.DataFrame'>\n"
     ]
    }
   ],
   "source": [
    "# Upewnijmy się, że to są dwa różne rodzaje danych:\n",
    "print(type(students))\n",
    "studentsPdf = students.toPandas()\n",
    "print(type(studentsPdf))"
   ]
  },
  {
   "attachments": {},
   "cell_type": "markdown",
   "id": "bf119002",
   "metadata": {},
   "source": [
    "Ogólne, skondensowane informacje o ramce:"
   ]
  },
  {
   "cell_type": "code",
   "execution_count": null,
   "id": "192ce6a2-e366-4f5c-9ebd-c523f58988a6",
   "metadata": {},
   "outputs": [],
   "source": [
    "# podobne do df.head()\n",
    "print(students.printSchema())\n",
    "print(\"\")\n",
    "print(students.columns)\n",
    "print(\"\")\n",
    "print(students.describe()) "
   ]
  },
  {
   "attachments": {},
   "cell_type": "markdown",
   "id": "decc3200",
   "metadata": {},
   "source": [
    "Podgląd typu jednej kolumny:"
   ]
  },
  {
   "cell_type": "code",
   "execution_count": null,
   "id": "d890d3c6-7bda-4e6f-be1f-8928b89c9c91",
   "metadata": {},
   "outputs": [],
   "source": [
    "students.schema['math score'].dataType"
   ]
  },
  {
   "attachments": {},
   "cell_type": "markdown",
   "id": "877eef72",
   "metadata": {},
   "source": [
    "Ładniejszy wynik describe:"
   ]
  },
  {
   "cell_type": "code",
   "execution_count": null,
   "id": "15f32b1e-ee35-427f-ace7-27933abd024b",
   "metadata": {},
   "outputs": [],
   "source": [
    "students.describe(['math score']).show()"
   ]
  },
  {
   "attachments": {},
   "cell_type": "markdown",
   "id": "eb67e461",
   "metadata": {},
   "source": [
    "Wywoływanie funkcji summary:"
   ]
  },
  {
   "cell_type": "code",
   "execution_count": null,
   "id": "4c5cef5f-3756-4ed6-a4ae-632731fe767b",
   "metadata": {},
   "outputs": [],
   "source": [
    "students.select(\"math score\", \"reading score\",\"writing score\").summary(\"count\", \"min\", \"25%\", \"75%\", \"max\").show()\n",
    "# Tu podglądaliśmy kwartyle, ale można też podejrzeć średnią, mediane etc."
   ]
  },
  {
   "attachments": {},
   "cell_type": "markdown",
   "id": "ad186625-94ca-40e5-884d-f6d21079dfe1",
   "metadata": {},
   "source": [
    "### Specyfikacja typu wczytywanych danych\n",
    "\n",
    "Niektóre pliki łatwiej załadować prawidłowo niż inne (tj. wykorzystać istniejący schemat, fachowo: odziedziczyć) - np. dane w formie tabelarycznej takie jak pliki csv. Niestety nierzadko trzeba samodzielnie określić kształt ramki wynikowej, zwłaszcza jeżeli korzysta się z metody, która nie używa parametru .inferSchema(). \n",
    "Poniżej przykład jak sobie z tym poradzić. Trzeba zacząć od zaimportowania dodatkowych modułów. "
   ]
  },
  {
   "cell_type": "code",
   "execution_count": 19,
   "id": "4ab57930-95c7-42d8-95a7-0e29d2062d87",
   "metadata": {},
   "outputs": [],
   "source": [
    "from pyspark.sql.types import StructField,StringType,IntegerType,StructType,DateType"
   ]
  },
  {
   "attachments": {},
   "cell_type": "markdown",
   "id": "abdb33f6-d90a-4cba-bf8f-da118f7055a9",
   "metadata": {},
   "source": [
    "Następnie, korzystając z poniższego klucza, uzupełniamy parametry:\n",
    " * param name: string - nazwa pola.\n",
    " * param dataType: :class:`DataType` - typ pola.\n",
    " * param nullable: - boolean, czy może przyjmować wartości null.\n",
    "\n",
    "Wartości dla powyższych parametrów zapisujemy jako listę, którą potem przekażemy jako argument do metody wczytującej dane:"
   ]
  },
  {
   "cell_type": "code",
   "execution_count": 20,
   "id": "befb9fd8-d5d4-45b1-9494-34991aa02787",
   "metadata": {},
   "outputs": [],
   "source": [
    "data_schema = [StructField(\"name\", StringType(), True),\n",
    "               StructField(\"email\", StringType(), True),\n",
    "               StructField(\"city\", StringType(), True),\n",
    "               StructField(\"mac\", StringType(), True),\n",
    "               StructField(\"timestamp\", DateType(), True),\n",
    "               StructField(\"creditcard\", StringType(), True)]"
   ]
  },
  {
   "cell_type": "code",
   "execution_count": 21,
   "id": "d992deb0-6f07-4d47-b4f8-dabe2822c542",
   "metadata": {},
   "outputs": [],
   "source": [
    "final_struc = StructType(fields=data_schema)"
   ]
  },
  {
   "attachments": {},
   "cell_type": "markdown",
   "id": "27017ec3-0f13-4d28-afc0-fb347ed75274",
   "metadata": {},
   "source": [
    "Sprawdźmy jak to działa w praktyce. Tym razem wczytamy .jsona \n",
    "\n",
    "Plik można znaleźć tu: https://gist.github.com/raine/da15845f332a2fb8937b344504abfbe0"
   ]
  },
  {
   "cell_type": "code",
   "execution_count": 22,
   "id": "37df5971-4bde-461f-a17a-a9d1213b6269",
   "metadata": {},
   "outputs": [],
   "source": [
    "people = spark.read.json('people.json', schema=final_struc)"
   ]
  },
  {
   "attachments": {},
   "cell_type": "markdown",
   "id": "151f8306",
   "metadata": {},
   "source": [
    "Sprawdzamy Schemę:"
   ]
  },
  {
   "cell_type": "code",
   "execution_count": 23,
   "id": "41bbb23d-0eaf-460e-af17-bbf0ed5b9a29",
   "metadata": {},
   "outputs": [
    {
     "name": "stdout",
     "output_type": "stream",
     "text": [
      "root\n",
      " |-- name: string (nullable = true)\n",
      " |-- email: string (nullable = true)\n",
      " |-- city: string (nullable = true)\n",
      " |-- mac: string (nullable = true)\n",
      " |-- timestamp: date (nullable = true)\n",
      " |-- creditcard: string (nullable = true)\n",
      "\n"
     ]
    }
   ],
   "source": [
    "people.printSchema()"
   ]
  },
  {
   "attachments": {},
   "cell_type": "markdown",
   "id": "43bd78f1-f3f9-4d4b-9278-ef9313faca03",
   "metadata": {},
   "source": [
    "## Export danych\n",
    "\n",
    "Najpierw prosta csv-ka. Składnia generalnie:"
   ]
  },
  {
   "cell_type": "code",
   "execution_count": 19,
   "id": "39afac30-fe13-4061-973b-0d6d292c7c19",
   "metadata": {},
   "outputs": [],
   "source": [
    "\n",
    "df.write.csv('foo.csv', header=True)"
   ]
  },
  {
   "attachments": {},
   "cell_type": "markdown",
   "id": "2121a0bf",
   "metadata": {},
   "source": [
    "Można też wykorzystać API pandasowe:"
   ]
  },
  {
   "cell_type": "code",
   "execution_count": null,
   "id": "1302ee49-feda-41f1-bb18-255e2746762b",
   "metadata": {},
   "outputs": [],
   "source": [
    "students.toPandas().to_csv('foo.csv')"
   ]
  },
  {
   "cell_type": "markdown",
   "id": "749f3371-b027-4a9f-af2b-a6f55f246350",
   "metadata": {
    "tags": []
   },
   "source": [
    "Plik parquet:"
   ]
  },
  {
   "cell_type": "code",
   "execution_count": null,
   "id": "ad922413-1672-4157-abbc-6e416b355a72",
   "metadata": {},
   "outputs": [],
   "source": [
    "df.write.parquet('bar.parquet')"
   ]
  },
  {
   "cell_type": "markdown",
   "id": "55da2f73-0b7a-4050-98fc-20a435d80ddd",
   "metadata": {},
   "source": [
    "Pliki parquet podzielone na partycje:"
   ]
  },
  {
   "cell_type": "code",
   "execution_count": null,
   "id": "0f37b93a-ebd4-427d-aa01-a11b6464ba5b",
   "metadata": {},
   "outputs": [],
   "source": [
    "users1_2.write.partitionBy(\"gender\").parquet('part_parquet/')"
   ]
  },
  {
   "cell_type": "markdown",
   "id": "9f25f760-06c5-456f-b019-45908b5d214c",
   "metadata": {},
   "source": [
    "Można też stworzyć własną ramkę danych i ją eksportować:"
   ]
  },
  {
   "cell_type": "code",
   "execution_count": null,
   "id": "e347e19f-6a4b-43ac-b79e-cf4daa9ccf46",
   "metadata": {},
   "outputs": [],
   "source": [
    "values = [('Pear',10),('Orange',36),('Banana',123),('Kiwi',48),('Peach',16),('Strawberry',1)]\n",
    "df = spark.createDataFrame(values,['fruit','quantity'])\n",
    "df.show()"
   ]
  },
  {
   "attachments": {},
   "cell_type": "markdown",
   "id": "288b5640-42ea-42c5-872c-3ab0abda0a28",
   "metadata": {},
   "source": [
    "# Agregacja danych w PySpark:\n",
    "\n",
    " Podstawy ramek mamy za sobą, teraz pora na agregację danych. Polecenia, które przedstawiamy poniżej, są bardzo potrzebne do porządnego sprawdzenia jakości danych. Przydadzą się także do odpowiedzi na proste pytania biznesowe.\n",
    "\n",
    "Przed nami polecenia/zagadnienia:\n",
    "\n",
    " - GroupBy\n",
    " - Pivot\n",
    " - Metody agregacyjne\n",
    " - Kombo trzech powyższych"
   ]
  },
  {
   "attachments": {},
   "cell_type": "markdown",
   "id": "fe517c79-8aad-4d75-b959-4d6f4689c94b",
   "metadata": {},
   "source": [
    "### Wczytujemy dane do zadań:"
   ]
  },
  {
   "attachments": {},
   "cell_type": "markdown",
   "id": "5c2751ee-cd3c-481b-9220-16235ba1c0d6",
   "metadata": {},
   "source": [
    "Poniższy plik zawiera dane o ogłoszeniach z Air BNB z Nowego Jorku z 2019. Jedna linijka = jeden booking.\n",
    "\n",
    "Żródło danych: https://www.kaggle.com/dgomonov/new-york-city-airbnb-open-data/data\n",
    "\n",
    "Ruszamy. Najpierw obejrzymy sobie te dane:"
   ]
  },
  {
   "cell_type": "code",
   "execution_count": null,
   "id": "aa17aeea-4fe7-4f1d-83d6-9bf2bfa85853",
   "metadata": {},
   "outputs": [],
   "source": [
    "# cska:\n",
    "airbnb = spark.read.csv('nyc_air_bnb.csv',inferSchema=True,header=True) # parametry: inferSchema i header (!)"
   ]
  },
  {
   "cell_type": "code",
   "execution_count": 3,
   "id": "c50c49af-782d-4dba-afb9-a368340180c9",
   "metadata": {},
   "outputs": [
    {
     "data": {
      "text/html": [
       "<div>\n",
       "<style scoped>\n",
       "    .dataframe tbody tr th:only-of-type {\n",
       "        vertical-align: middle;\n",
       "    }\n",
       "\n",
       "    .dataframe tbody tr th {\n",
       "        vertical-align: top;\n",
       "    }\n",
       "\n",
       "    .dataframe thead th {\n",
       "        text-align: right;\n",
       "    }\n",
       "</style>\n",
       "<table border=\"1\" class=\"dataframe\">\n",
       "  <thead>\n",
       "    <tr style=\"text-align: right;\">\n",
       "      <th></th>\n",
       "      <th>id</th>\n",
       "      <th>name</th>\n",
       "      <th>host_id</th>\n",
       "      <th>host_name</th>\n",
       "      <th>neighbourhood_group</th>\n",
       "      <th>neighbourhood</th>\n",
       "      <th>latitude</th>\n",
       "      <th>longitude</th>\n",
       "      <th>room_type</th>\n",
       "      <th>price</th>\n",
       "      <th>minimum_nights</th>\n",
       "      <th>number_of_reviews</th>\n",
       "      <th>last_review</th>\n",
       "      <th>reviews_per_month</th>\n",
       "      <th>calculated_host_listings_count</th>\n",
       "      <th>availability_365</th>\n",
       "    </tr>\n",
       "  </thead>\n",
       "  <tbody>\n",
       "    <tr>\n",
       "      <td>0</td>\n",
       "      <td>2539</td>\n",
       "      <td>Clean &amp; quiet apt home by the park</td>\n",
       "      <td>2787</td>\n",
       "      <td>John</td>\n",
       "      <td>Brooklyn</td>\n",
       "      <td>Kensington</td>\n",
       "      <td>40.64749</td>\n",
       "      <td>-73.97237</td>\n",
       "      <td>Private room</td>\n",
       "      <td>149</td>\n",
       "      <td>1</td>\n",
       "      <td>9</td>\n",
       "      <td>2018-10-19</td>\n",
       "      <td>0.21</td>\n",
       "      <td>6</td>\n",
       "      <td>365</td>\n",
       "    </tr>\n",
       "    <tr>\n",
       "      <td>1</td>\n",
       "      <td>2595</td>\n",
       "      <td>Skylit Midtown Castle</td>\n",
       "      <td>2845</td>\n",
       "      <td>Jennifer</td>\n",
       "      <td>Manhattan</td>\n",
       "      <td>Midtown</td>\n",
       "      <td>40.75362</td>\n",
       "      <td>-73.98377</td>\n",
       "      <td>Entire home/apt</td>\n",
       "      <td>225</td>\n",
       "      <td>1</td>\n",
       "      <td>45</td>\n",
       "      <td>2019-05-21</td>\n",
       "      <td>0.38</td>\n",
       "      <td>2</td>\n",
       "      <td>355</td>\n",
       "    </tr>\n",
       "    <tr>\n",
       "      <td>2</td>\n",
       "      <td>3647</td>\n",
       "      <td>THE VILLAGE OF HARLEM....NEW YORK !</td>\n",
       "      <td>4632</td>\n",
       "      <td>Elisabeth</td>\n",
       "      <td>Manhattan</td>\n",
       "      <td>Harlem</td>\n",
       "      <td>40.80902</td>\n",
       "      <td>-73.9419</td>\n",
       "      <td>Private room</td>\n",
       "      <td>150</td>\n",
       "      <td>3</td>\n",
       "      <td>0</td>\n",
       "      <td>None</td>\n",
       "      <td>None</td>\n",
       "      <td>1</td>\n",
       "      <td>365</td>\n",
       "    </tr>\n",
       "    <tr>\n",
       "      <td>3</td>\n",
       "      <td>3831</td>\n",
       "      <td>Cozy Entire Floor of Brownstone</td>\n",
       "      <td>4869</td>\n",
       "      <td>LisaRoxanne</td>\n",
       "      <td>Brooklyn</td>\n",
       "      <td>Clinton Hill</td>\n",
       "      <td>40.68514</td>\n",
       "      <td>-73.95976</td>\n",
       "      <td>Entire home/apt</td>\n",
       "      <td>89</td>\n",
       "      <td>1</td>\n",
       "      <td>270</td>\n",
       "      <td>2019-07-05</td>\n",
       "      <td>4.64</td>\n",
       "      <td>1</td>\n",
       "      <td>194</td>\n",
       "    </tr>\n",
       "    <tr>\n",
       "      <td>4</td>\n",
       "      <td>5022</td>\n",
       "      <td>Entire Apt: Spacious Studio/Loft by central park</td>\n",
       "      <td>7192</td>\n",
       "      <td>Laura</td>\n",
       "      <td>Manhattan</td>\n",
       "      <td>East Harlem</td>\n",
       "      <td>40.79851</td>\n",
       "      <td>-73.94399</td>\n",
       "      <td>Entire home/apt</td>\n",
       "      <td>80</td>\n",
       "      <td>10</td>\n",
       "      <td>9</td>\n",
       "      <td>2018-11-19</td>\n",
       "      <td>0.10</td>\n",
       "      <td>1</td>\n",
       "      <td>0</td>\n",
       "    </tr>\n",
       "  </tbody>\n",
       "</table>\n",
       "</div>"
      ],
      "text/plain": [
       "     id                                              name host_id  \\\n",
       "0  2539                Clean & quiet apt home by the park    2787   \n",
       "1  2595                             Skylit Midtown Castle    2845   \n",
       "2  3647               THE VILLAGE OF HARLEM....NEW YORK !    4632   \n",
       "3  3831                   Cozy Entire Floor of Brownstone    4869   \n",
       "4  5022  Entire Apt: Spacious Studio/Loft by central park    7192   \n",
       "\n",
       "     host_name neighbourhood_group neighbourhood  latitude  longitude  \\\n",
       "0         John            Brooklyn    Kensington  40.64749  -73.97237   \n",
       "1     Jennifer           Manhattan       Midtown  40.75362  -73.98377   \n",
       "2    Elisabeth           Manhattan        Harlem  40.80902   -73.9419   \n",
       "3  LisaRoxanne            Brooklyn  Clinton Hill  40.68514  -73.95976   \n",
       "4        Laura           Manhattan   East Harlem  40.79851  -73.94399   \n",
       "\n",
       "         room_type price minimum_nights number_of_reviews last_review  \\\n",
       "0     Private room   149              1                 9  2018-10-19   \n",
       "1  Entire home/apt   225              1                45  2019-05-21   \n",
       "2     Private room   150              3                 0        None   \n",
       "3  Entire home/apt    89              1               270  2019-07-05   \n",
       "4  Entire home/apt    80             10                 9  2018-11-19   \n",
       "\n",
       "  reviews_per_month calculated_host_listings_count  availability_365  \n",
       "0              0.21                              6               365  \n",
       "1              0.38                              2               355  \n",
       "2              None                              1               365  \n",
       "3              4.64                              1               194  \n",
       "4              0.10                              1                 0  "
      ]
     },
     "execution_count": 3,
     "metadata": {},
     "output_type": "execute_result"
    }
   ],
   "source": [
    "airbnb.limit(5).toPandas()"
   ]
  },
  {
   "cell_type": "code",
   "execution_count": 4,
   "id": "7843be4f-4c2a-4a97-a737-2c966d674a09",
   "metadata": {},
   "outputs": [
    {
     "name": "stdout",
     "output_type": "stream",
     "text": [
      "root\n",
      " |-- id: string (nullable = true)\n",
      " |-- name: string (nullable = true)\n",
      " |-- host_id: string (nullable = true)\n",
      " |-- host_name: string (nullable = true)\n",
      " |-- neighbourhood_group: string (nullable = true)\n",
      " |-- neighbourhood: string (nullable = true)\n",
      " |-- latitude: string (nullable = true)\n",
      " |-- longitude: string (nullable = true)\n",
      " |-- room_type: string (nullable = true)\n",
      " |-- price: string (nullable = true)\n",
      " |-- minimum_nights: string (nullable = true)\n",
      " |-- number_of_reviews: string (nullable = true)\n",
      " |-- last_review: string (nullable = true)\n",
      " |-- reviews_per_month: string (nullable = true)\n",
      " |-- calculated_host_listings_count: string (nullable = true)\n",
      " |-- availability_365: integer (nullable = true)\n",
      "\n",
      "None\n"
     ]
    }
   ],
   "source": [
    "print(airbnb.printSchema())"
   ]
  },
  {
   "attachments": {},
   "cell_type": "markdown",
   "id": "927c14cb-d24e-4601-aa70-72e786b0d460",
   "metadata": {},
   "source": [
    "Niektóre z kolumn mają zaczytany nieprawidłowy typ danych. Trzeba to poprawić używając funkcji .withColumn(). Jest to funkcja, którą można wykonać zmianę wartości kolumny, zmienić typ kolumny, ale także stworzyć nową kolumnę."
   ]
  },
  {
   "cell_type": "code",
   "execution_count": 5,
   "id": "7ba8d722-34d2-4393-baeb-12a8f815c533",
   "metadata": {},
   "outputs": [
    {
     "name": "stdout",
     "output_type": "stream",
     "text": [
      "root\n",
      " |-- id: string (nullable = true)\n",
      " |-- name: string (nullable = true)\n",
      " |-- host_id: string (nullable = true)\n",
      " |-- host_name: string (nullable = true)\n",
      " |-- neighbourhood_group: string (nullable = true)\n",
      " |-- neighbourhood: string (nullable = true)\n",
      " |-- latitude: string (nullable = true)\n",
      " |-- longitude: string (nullable = true)\n",
      " |-- room_type: string (nullable = true)\n",
      " |-- price: integer (nullable = true)\n",
      " |-- minimum_nights: integer (nullable = true)\n",
      " |-- number_of_reviews: integer (nullable = true)\n",
      " |-- last_review: string (nullable = true)\n",
      " |-- reviews_per_month: integer (nullable = true)\n",
      " |-- calculated_host_listings_count: integer (nullable = true)\n",
      " |-- availability_365: integer (nullable = true)\n",
      "\n",
      "None\n"
     ]
    },
    {
     "data": {
      "text/html": [
       "<div>\n",
       "<style scoped>\n",
       "    .dataframe tbody tr th:only-of-type {\n",
       "        vertical-align: middle;\n",
       "    }\n",
       "\n",
       "    .dataframe tbody tr th {\n",
       "        vertical-align: top;\n",
       "    }\n",
       "\n",
       "    .dataframe thead th {\n",
       "        text-align: right;\n",
       "    }\n",
       "</style>\n",
       "<table border=\"1\" class=\"dataframe\">\n",
       "  <thead>\n",
       "    <tr style=\"text-align: right;\">\n",
       "      <th></th>\n",
       "      <th>id</th>\n",
       "      <th>name</th>\n",
       "      <th>host_id</th>\n",
       "      <th>host_name</th>\n",
       "      <th>neighbourhood_group</th>\n",
       "      <th>neighbourhood</th>\n",
       "      <th>latitude</th>\n",
       "      <th>longitude</th>\n",
       "      <th>room_type</th>\n",
       "      <th>price</th>\n",
       "      <th>minimum_nights</th>\n",
       "      <th>number_of_reviews</th>\n",
       "      <th>last_review</th>\n",
       "      <th>reviews_per_month</th>\n",
       "      <th>calculated_host_listings_count</th>\n",
       "      <th>availability_365</th>\n",
       "    </tr>\n",
       "  </thead>\n",
       "  <tbody>\n",
       "    <tr>\n",
       "      <td>0</td>\n",
       "      <td>2539</td>\n",
       "      <td>Clean &amp; quiet apt home by the park</td>\n",
       "      <td>2787</td>\n",
       "      <td>John</td>\n",
       "      <td>Brooklyn</td>\n",
       "      <td>Kensington</td>\n",
       "      <td>40.64749</td>\n",
       "      <td>-73.97237</td>\n",
       "      <td>Private room</td>\n",
       "      <td>149</td>\n",
       "      <td>1</td>\n",
       "      <td>9</td>\n",
       "      <td>2018-10-19</td>\n",
       "      <td>0.0</td>\n",
       "      <td>6</td>\n",
       "      <td>365</td>\n",
       "    </tr>\n",
       "    <tr>\n",
       "      <td>1</td>\n",
       "      <td>2595</td>\n",
       "      <td>Skylit Midtown Castle</td>\n",
       "      <td>2845</td>\n",
       "      <td>Jennifer</td>\n",
       "      <td>Manhattan</td>\n",
       "      <td>Midtown</td>\n",
       "      <td>40.75362</td>\n",
       "      <td>-73.98377</td>\n",
       "      <td>Entire home/apt</td>\n",
       "      <td>225</td>\n",
       "      <td>1</td>\n",
       "      <td>45</td>\n",
       "      <td>2019-05-21</td>\n",
       "      <td>0.0</td>\n",
       "      <td>2</td>\n",
       "      <td>355</td>\n",
       "    </tr>\n",
       "    <tr>\n",
       "      <td>2</td>\n",
       "      <td>3647</td>\n",
       "      <td>THE VILLAGE OF HARLEM....NEW YORK !</td>\n",
       "      <td>4632</td>\n",
       "      <td>Elisabeth</td>\n",
       "      <td>Manhattan</td>\n",
       "      <td>Harlem</td>\n",
       "      <td>40.80902</td>\n",
       "      <td>-73.9419</td>\n",
       "      <td>Private room</td>\n",
       "      <td>150</td>\n",
       "      <td>3</td>\n",
       "      <td>0</td>\n",
       "      <td>None</td>\n",
       "      <td>NaN</td>\n",
       "      <td>1</td>\n",
       "      <td>365</td>\n",
       "    </tr>\n",
       "    <tr>\n",
       "      <td>3</td>\n",
       "      <td>3831</td>\n",
       "      <td>Cozy Entire Floor of Brownstone</td>\n",
       "      <td>4869</td>\n",
       "      <td>LisaRoxanne</td>\n",
       "      <td>Brooklyn</td>\n",
       "      <td>Clinton Hill</td>\n",
       "      <td>40.68514</td>\n",
       "      <td>-73.95976</td>\n",
       "      <td>Entire home/apt</td>\n",
       "      <td>89</td>\n",
       "      <td>1</td>\n",
       "      <td>270</td>\n",
       "      <td>2019-07-05</td>\n",
       "      <td>4.0</td>\n",
       "      <td>1</td>\n",
       "      <td>194</td>\n",
       "    </tr>\n",
       "    <tr>\n",
       "      <td>4</td>\n",
       "      <td>5022</td>\n",
       "      <td>Entire Apt: Spacious Studio/Loft by central park</td>\n",
       "      <td>7192</td>\n",
       "      <td>Laura</td>\n",
       "      <td>Manhattan</td>\n",
       "      <td>East Harlem</td>\n",
       "      <td>40.79851</td>\n",
       "      <td>-73.94399</td>\n",
       "      <td>Entire home/apt</td>\n",
       "      <td>80</td>\n",
       "      <td>10</td>\n",
       "      <td>9</td>\n",
       "      <td>2018-11-19</td>\n",
       "      <td>0.0</td>\n",
       "      <td>1</td>\n",
       "      <td>0</td>\n",
       "    </tr>\n",
       "  </tbody>\n",
       "</table>\n",
       "</div>"
      ],
      "text/plain": [
       "     id                                              name host_id  \\\n",
       "0  2539                Clean & quiet apt home by the park    2787   \n",
       "1  2595                             Skylit Midtown Castle    2845   \n",
       "2  3647               THE VILLAGE OF HARLEM....NEW YORK !    4632   \n",
       "3  3831                   Cozy Entire Floor of Brownstone    4869   \n",
       "4  5022  Entire Apt: Spacious Studio/Loft by central park    7192   \n",
       "\n",
       "     host_name neighbourhood_group neighbourhood  latitude  longitude  \\\n",
       "0         John            Brooklyn    Kensington  40.64749  -73.97237   \n",
       "1     Jennifer           Manhattan       Midtown  40.75362  -73.98377   \n",
       "2    Elisabeth           Manhattan        Harlem  40.80902   -73.9419   \n",
       "3  LisaRoxanne            Brooklyn  Clinton Hill  40.68514  -73.95976   \n",
       "4        Laura           Manhattan   East Harlem  40.79851  -73.94399   \n",
       "\n",
       "         room_type  price  minimum_nights  number_of_reviews last_review  \\\n",
       "0     Private room    149               1                  9  2018-10-19   \n",
       "1  Entire home/apt    225               1                 45  2019-05-21   \n",
       "2     Private room    150               3                  0        None   \n",
       "3  Entire home/apt     89               1                270  2019-07-05   \n",
       "4  Entire home/apt     80              10                  9  2018-11-19   \n",
       "\n",
       "   reviews_per_month  calculated_host_listings_count  availability_365  \n",
       "0                0.0                               6               365  \n",
       "1                0.0                               2               355  \n",
       "2                NaN                               1               365  \n",
       "3                4.0                               1               194  \n",
       "4                0.0                               1                 0  "
      ]
     },
     "execution_count": 5,
     "metadata": {},
     "output_type": "execute_result"
    }
   ],
   "source": [
    "from pyspark.sql.types import *\n",
    "from pyspark.sql.functions import *\n",
    "\n",
    "df = airbnb.withColumn(\"price\", airbnb[\"price\"].cast(IntegerType())) \\\n",
    "        .withColumn(\"minimum_nights\", airbnb[\"minimum_nights\"].cast(IntegerType())) \\\n",
    "        .withColumn(\"number_of_reviews\", airbnb[\"number_of_reviews\"].cast(IntegerType())) \\\n",
    "        .withColumn(\"reviews_per_month\", airbnb[\"reviews_per_month\"].cast(IntegerType())) \\\n",
    "        .withColumn(\"calculated_host_listings_count\", airbnb[\"calculated_host_listings_count\"].cast(IntegerType()))\n",
    "#QA\n",
    "print(df.printSchema())\n",
    "df.limit(5).toPandas()"
   ]
  },
  {
   "attachments": {},
   "cell_type": "markdown",
   "id": "53f23980-84a6-4cdb-ab76-123218d6e8a7",
   "metadata": {},
   "source": [
    "### Grupowanie i agregowanie zmiennych\n",
    "\n",
    "Grupowanie wykonuje się funkcją groupBy(). Agregowanie funkcją aggregate(). Często są one wykorzystywane w tym samym momencie. Nie bez znaczenia jest to, że żeby wykonać agregację najpierw należy przekazać Sparkowi informację po czym zbiór pogrupować. \n",
    "\n",
    "GroupBy() grupuje wiersze z tą samą wartością wybranej kolumny, np. sprzedaż w ujęciu miesięcznym. Po wykonaniu grupowania, można przejść do agregacji, która zamiast kilku wierszy zwraca ich sumę, średnią etc. \n",
    "\n",
    "Aggregate() można też używać bez groupBy(). Robi się to po to żeby obejrzeć statystyki zbioru danych, na którym się aktualnie pracuje. Sprawdźmy najpierw ile było ogłoszeń w rozbciu na dzielnice?"
   ]
  },
  {
   "cell_type": "code",
   "execution_count": null,
   "id": "2db1eea9-582a-482c-a2ec-57d9c7878239",
   "metadata": {},
   "outputs": [
    {
     "name": "stdout",
     "output_type": "stream",
     "text": [
      "+-------------------+-----+\n",
      "|neighbourhood_group|count|\n",
      "+-------------------+-----+\n",
      "|         Douglaston|    1|\n",
      "|             Queens| 5630|\n",
      "|              Nadia|    1|\n",
      "|            Midtown|    4|\n",
      "|    Jackson Heights|    2|\n",
      "|     Hell's Kitchen|    7|\n",
      "|  Greenwich Village|    2|\n",
      "+-------------------+-----+\n",
      "only showing top 7 rows\n",
      "\n"
     ]
    }
   ],
   "source": [
    "\n",
    "# GroupBy() + count() (ale można by też: sum, min, max)\n",
    "df.groupBy(\"neighbourhood_group\").count().show(7)"
   ]
  },
  {
   "attachments": {},
   "cell_type": "markdown",
   "id": "001a9ce6",
   "metadata": {},
   "source": [
    "Dorzućmy jakąś agregację: \n"
   ]
  },
  {
   "cell_type": "code",
   "execution_count": null,
   "id": "20fed7b3-1d4e-452c-9794-284d3f3389c5",
   "metadata": {},
   "outputs": [
    {
     "name": "stdout",
     "output_type": "stream",
     "text": [
      "+-------------------+-----------------+\n",
      "|neighbourhood_group|       avg(price)|\n",
      "+-------------------+-----------------+\n",
      "|         Douglaston|              1.0|\n",
      "|             Queens|99.57690941385435|\n",
      "|              Nadia|             null|\n",
      "|            Midtown|              9.0|\n",
      "|    Jackson Heights|             16.0|\n",
      "+-------------------+-----------------+\n",
      "only showing top 5 rows\n",
      "\n"
     ]
    }
   ],
   "source": [
    "# Przykład:\n",
    "df.groupBy(\"neighbourhood_group\").mean(\"price\").show(5)"
   ]
  },
  {
   "attachments": {},
   "cell_type": "markdown",
   "id": "5e06bd14",
   "metadata": {},
   "source": [
    "Niby można też tak, ale trzeba się wtedy ograniczyć do jednej zmiennej w danej operacji, dlatego nie jest to preferowana przez nas metoda:"
   ]
  },
  {
   "cell_type": "code",
   "execution_count": null,
   "id": "3723bedd-4d30-4e2e-b4e8-cf91c8aee5a4",
   "metadata": {},
   "outputs": [
    {
     "name": "stdout",
     "output_type": "stream",
     "text": [
      "+-------------+----------+\n",
      "|neighbourhood|avg(price)|\n",
      "+-------------+----------+\n",
      "|       Corona| 59.171875|\n",
      "| Richmondtown|      78.0|\n",
      "| Prince's Bay|     409.5|\n",
      "|  Westerleigh|      71.5|\n",
      "|   Mill Basin|    179.75|\n",
      "+-------------+----------+\n",
      "only showing top 5 rows\n",
      "\n"
     ]
    }
   ],
   "source": [
    "df.groupBy(\"neighbourhood\").agg({'price':'mean'}).show(5)"
   ]
  },
  {
   "attachments": {},
   "cell_type": "markdown",
   "id": "bc63f660",
   "metadata": {},
   "source": [
    "To jest najlepsza z zaproponych metod, można agregować więcej kolumn w jednej operacji:"
   ]
  },
  {
   "cell_type": "code",
   "execution_count": null,
   "id": "a3b18708-ec22-49e2-a00d-f02e078e5837",
   "metadata": {},
   "outputs": [
    {
     "name": "stdout",
     "output_type": "stream",
     "text": [
      "+-------------+---------+---------+\n",
      "|neighbourhood|Min Price|Max Price|\n",
      "+-------------+---------+---------+\n",
      "|       Corona|       23|      359|\n",
      "| Richmondtown|       78|       78|\n",
      "| Prince's Bay|       85|     1250|\n",
      "|  Westerleigh|       40|      103|\n",
      "|   Mill Basin|       85|      299|\n",
      "+-------------+---------+---------+\n",
      "only showing top 5 rows\n",
      "\n"
     ]
    }
   ],
   "source": [
    "from pyspark.sql.functions import *\n",
    "df.groupBy(\"neighbourhood\").agg(min(df.price).alias(\"Min Price\"),max(df.price).alias(\"Max Price\")).show(5)"
   ]
  },
  {
   "attachments": {},
   "cell_type": "markdown",
   "id": "722c5987",
   "metadata": {},
   "source": [
    "To też przyzwoity sposób:"
   ]
  },
  {
   "cell_type": "code",
   "execution_count": null,
   "id": "d8cac83e-6f53-4395-b6f5-123fc11bde04",
   "metadata": {},
   "outputs": [
    {
     "data": {
      "text/html": [
       "<div>\n",
       "<style scoped>\n",
       "    .dataframe tbody tr th:only-of-type {\n",
       "        vertical-align: middle;\n",
       "    }\n",
       "\n",
       "    .dataframe tbody tr th {\n",
       "        vertical-align: top;\n",
       "    }\n",
       "\n",
       "    .dataframe thead th {\n",
       "        text-align: right;\n",
       "    }\n",
       "</style>\n",
       "<table border=\"1\" class=\"dataframe\">\n",
       "  <thead>\n",
       "    <tr style=\"text-align: right;\">\n",
       "      <th></th>\n",
       "      <th>summary</th>\n",
       "      <th>id</th>\n",
       "      <th>name</th>\n",
       "      <th>host_id</th>\n",
       "      <th>host_name</th>\n",
       "      <th>neighbourhood_group</th>\n",
       "      <th>neighbourhood</th>\n",
       "      <th>latitude</th>\n",
       "      <th>longitude</th>\n",
       "      <th>room_type</th>\n",
       "      <th>price</th>\n",
       "      <th>minimum_nights</th>\n",
       "      <th>number_of_reviews</th>\n",
       "      <th>last_review</th>\n",
       "      <th>reviews_per_month</th>\n",
       "      <th>calculated_host_listings_count</th>\n",
       "      <th>availability_365</th>\n",
       "    </tr>\n",
       "  </thead>\n",
       "  <tbody>\n",
       "    <tr>\n",
       "      <td>0</td>\n",
       "      <td>count</td>\n",
       "      <td>49079</td>\n",
       "      <td>49047</td>\n",
       "      <td>48894</td>\n",
       "      <td>48873</td>\n",
       "      <td>48894</td>\n",
       "      <td>48894</td>\n",
       "      <td>48894</td>\n",
       "      <td>48894</td>\n",
       "      <td>48894</td>\n",
       "      <td>48887</td>\n",
       "      <td>48891</td>\n",
       "      <td>48738</td>\n",
       "      <td>38845</td>\n",
       "      <td>38858</td>\n",
       "      <td>48891</td>\n",
       "      <td>48737</td>\n",
       "    </tr>\n",
       "    <tr>\n",
       "      <td>1</td>\n",
       "      <td>min</td>\n",
       "      <td>12 mins Manhattan\"</td>\n",
       "      <td>1 Bed Apt in Utopic Williamsburg</td>\n",
       "      <td>Heart of Greenwich Village\"</td>\n",
       "      <td>very clean studio app\"</td>\n",
       "      <td>194716858</td>\n",
       "      <td>2</td>\n",
       "      <td>-73.72247</td>\n",
       "      <td>-73.71299</td>\n",
       "      <td>-73.90783</td>\n",
       "      <td>-74</td>\n",
       "      <td>0</td>\n",
       "      <td>0</td>\n",
       "      <td>-73.94134</td>\n",
       "      <td>0</td>\n",
       "      <td>0</td>\n",
       "      <td>0</td>\n",
       "    </tr>\n",
       "    <tr>\n",
       "      <td>2</td>\n",
       "      <td>25%</td>\n",
       "      <td>9470528.0</td>\n",
       "      <td>2.4544724E7</td>\n",
       "      <td>7797690.0</td>\n",
       "      <td>475.0</td>\n",
       "      <td>1.94716858E8</td>\n",
       "      <td>40.68771</td>\n",
       "      <td>40.68981</td>\n",
       "      <td>-73.98309</td>\n",
       "      <td>56.0</td>\n",
       "      <td>69</td>\n",
       "      <td>1</td>\n",
       "      <td>1</td>\n",
       "      <td>0.76</td>\n",
       "      <td>0</td>\n",
       "      <td>1</td>\n",
       "      <td>0</td>\n",
       "    </tr>\n",
       "    <tr>\n",
       "      <td>3</td>\n",
       "      <td>75%</td>\n",
       "      <td>2.9151631E7</td>\n",
       "      <td>1.74786681E8</td>\n",
       "      <td>1.07434423E8</td>\n",
       "      <td>3.3499491E7</td>\n",
       "      <td>1.97400421E8</td>\n",
       "      <td>40.78304</td>\n",
       "      <td>40.76299</td>\n",
       "      <td>-73.93638</td>\n",
       "      <td>145.0</td>\n",
       "      <td>175</td>\n",
       "      <td>5</td>\n",
       "      <td>23</td>\n",
       "      <td>3.24</td>\n",
       "      <td>2</td>\n",
       "      <td>2</td>\n",
       "      <td>226</td>\n",
       "    </tr>\n",
       "    <tr>\n",
       "      <td>4</td>\n",
       "      <td>max</td>\n",
       "      <td>獨一無二的紐約閣樓\"</td>\n",
       "      <td>ﾏﾝﾊｯﾀﾝ､駅から徒歩4分でどこに行くのにも便利な場所!女性の方希望,ｷﾚｲなお部屋｡</td>\n",
       "      <td>呈刚</td>\n",
       "      <td>현선</td>\n",
       "      <td>Woodside</td>\n",
       "      <td>Woodside</td>\n",
       "      <td>West Village</td>\n",
       "      <td>Shared room</td>\n",
       "      <td>Shared room</td>\n",
       "      <td>10000</td>\n",
       "      <td>1250</td>\n",
       "      <td>629</td>\n",
       "      <td>9.66</td>\n",
       "      <td>58</td>\n",
       "      <td>365</td>\n",
       "      <td>365</td>\n",
       "    </tr>\n",
       "  </tbody>\n",
       "</table>\n",
       "</div>"
      ],
      "text/plain": [
       "  summary                   id                                          name  \\\n",
       "0   count                49079                                         49047   \n",
       "1     min   12 mins Manhattan\"             1 Bed Apt in Utopic Williamsburg    \n",
       "2     25%            9470528.0                                   2.4544724E7   \n",
       "3     75%          2.9151631E7                                  1.74786681E8   \n",
       "4     max           獨一無二的紐約閣樓\"  ﾏﾝﾊｯﾀﾝ､駅から徒歩4分でどこに行くのにも便利な場所!女性の方希望,ｷﾚｲなお部屋｡   \n",
       "\n",
       "                        host_id                host_name neighbourhood_group  \\\n",
       "0                         48894                    48873               48894   \n",
       "1   Heart of Greenwich Village\"   very clean studio app\"           194716858   \n",
       "2                     7797690.0                    475.0        1.94716858E8   \n",
       "3                  1.07434423E8              3.3499491E7        1.97400421E8   \n",
       "4                            呈刚                       현선            Woodside   \n",
       "\n",
       "  neighbourhood      latitude    longitude    room_type  price minimum_nights  \\\n",
       "0         48894         48894        48894        48894  48887          48891   \n",
       "1             2     -73.72247    -73.71299    -73.90783    -74              0   \n",
       "2      40.68771      40.68981    -73.98309         56.0     69              1   \n",
       "3      40.78304      40.76299    -73.93638        145.0    175              5   \n",
       "4      Woodside  West Village  Shared room  Shared room  10000           1250   \n",
       "\n",
       "  number_of_reviews last_review reviews_per_month  \\\n",
       "0             48738       38845             38858   \n",
       "1                 0   -73.94134                 0   \n",
       "2                 1        0.76                 0   \n",
       "3                23        3.24                 2   \n",
       "4               629        9.66                58   \n",
       "\n",
       "  calculated_host_listings_count availability_365  \n",
       "0                          48891            48737  \n",
       "1                              0                0  \n",
       "2                              1                0  \n",
       "3                              2              226  \n",
       "4                            365              365  "
      ]
     },
     "execution_count": 8,
     "metadata": {},
     "output_type": "execute_result"
    }
   ],
   "source": [
    "\n",
    "summary = df.summary(\"count\", \"min\", \"25%\", \"75%\", \"max\")\n",
    "summary.toPandas()\n",
    "# UWAGA: do wykonania polecenia wykorzystywany jest CAŁY ZBIÓR -> memorry error."
   ]
  },
  {
   "attachments": {},
   "cell_type": "markdown",
   "id": "848e5dcc",
   "metadata": {},
   "source": [
    "Wynik powyżej jest nieczytelny, dużo lepszym sposobem byłoby wybranie kilku kolumn, które nas interesują:"
   ]
  },
  {
   "cell_type": "code",
   "execution_count": 11,
   "id": "b544188f-95f2-4b41-bb31-d58ae8cd0d41",
   "metadata": {},
   "outputs": [
    {
     "data": {
      "text/html": [
       "<div>\n",
       "<style scoped>\n",
       "    .dataframe tbody tr th:only-of-type {\n",
       "        vertical-align: middle;\n",
       "    }\n",
       "\n",
       "    .dataframe tbody tr th {\n",
       "        vertical-align: top;\n",
       "    }\n",
       "\n",
       "    .dataframe thead th {\n",
       "        text-align: right;\n",
       "    }\n",
       "</style>\n",
       "<table border=\"1\" class=\"dataframe\">\n",
       "  <thead>\n",
       "    <tr style=\"text-align: right;\">\n",
       "      <th></th>\n",
       "      <th>summary</th>\n",
       "      <th>price</th>\n",
       "      <th>minimum_nights</th>\n",
       "      <th>number_of_reviews</th>\n",
       "    </tr>\n",
       "  </thead>\n",
       "  <tbody>\n",
       "    <tr>\n",
       "      <td>0</td>\n",
       "      <td>count</td>\n",
       "      <td>48887</td>\n",
       "      <td>48891</td>\n",
       "      <td>48738</td>\n",
       "    </tr>\n",
       "    <tr>\n",
       "      <td>1</td>\n",
       "      <td>min</td>\n",
       "      <td>-74</td>\n",
       "      <td>0</td>\n",
       "      <td>0</td>\n",
       "    </tr>\n",
       "    <tr>\n",
       "      <td>2</td>\n",
       "      <td>max</td>\n",
       "      <td>10000</td>\n",
       "      <td>1250</td>\n",
       "      <td>629</td>\n",
       "    </tr>\n",
       "  </tbody>\n",
       "</table>\n",
       "</div>"
      ],
      "text/plain": [
       "  summary  price minimum_nights number_of_reviews\n",
       "0   count  48887          48891             48738\n",
       "1     min    -74              0                 0\n",
       "2     max  10000           1250               629"
      ]
     },
     "execution_count": 11,
     "metadata": {},
     "output_type": "execute_result"
    }
   ],
   "source": [
    "\n",
    "# limit_summary = df.select(\"price\",\"minimum_nights\",\"number_of_reviews\",\"last_review\",\"reviews_per_month\",\"calculated_host_listings_count\",\"availability_365\").summary(\"count\",\"min\",\"max\")\n",
    "limit_summary = df.select(\"price\",\"minimum_nights\",\"number_of_reviews\").summary(\"count\",\"min\",\"max\")\n",
    "limit_summary.toPandas()"
   ]
  },
  {
   "attachments": {},
   "cell_type": "markdown",
   "id": "74f530bc-5755-481b-94a2-94605c711427",
   "metadata": {},
   "source": [
    "### Agragacja ramki bez wykonywania groupBy: \n",
    "Wracamy do agregacji bez wykorzystania funkcji groupBy(). Robi się to używając funckji z biblioteki pyspark.sql:"
   ]
  },
  {
   "cell_type": "code",
   "execution_count": 25,
   "id": "5c9f6e80-8d0f-42f3-822b-3ef651c5e33c",
   "metadata": {},
   "outputs": [
    {
     "name": "stdout",
     "output_type": "stream",
     "text": [
      "+---------+---------+\n",
      "|Min Price|Max Price|\n",
      "+---------+---------+\n",
      "|      -74|    10000|\n",
      "+---------+---------+\n",
      "\n"
     ]
    }
   ],
   "source": [
    "# agregacja bez wykorzystania grupowania (krótsza forma df.groupBy.agg()).\n",
    "# dostępne funkcje: min, max, count, countDistinct, approx_count_distinct\n",
    "# df.agg.(covar_pop(col1, col2)) Nowa kolumna z wartością kowariancji kolumn col1 i col2\n",
    "# df.agg.(covar_samp(col1, col2)) Nowa kolumna z wartością kowariancji próbki kolumn col1 i col2\n",
    "# df.agg(corr(col1, col2)) Nowa koolumna z wartością korelacji Pearsona kolumn col1 i col2.\n",
    "\n",
    "from pyspark.sql.functions import *\n",
    "df.agg(min(df.price).alias(\"Min Price\"),max(df.price).alias(\"Max Price\")).show()"
   ]
  },
  {
   "cell_type": "code",
   "execution_count": null,
   "id": "19d39836-2f74-494c-83d0-37ba1fb79164",
   "metadata": {},
   "outputs": [],
   "source": [
    "# Można też tak i są to dość podobne do siebie metody\n",
    "df.select(countDistinct(\"neighbourhood_group\").alias('CountD'),avg('price'),stddev(\"price\")).show()"
   ]
  },
  {
   "cell_type": "code",
   "execution_count": null,
   "id": "b4f08ff1-b13e-44b9-828a-fd4cf703a085",
   "metadata": {},
   "outputs": [],
   "source": [
    "# Kolejna alternatywa, ale ta sama wada co w module wyżej - przyjmuje tylko jadną zmienną, więc nie jest to polecana metoda\n",
    "df.agg({'number_of_reviews':'max'}).withColumnRenamed(\"max(number_of_reviews)\", \"Max Reviews\").show()"
   ]
  },
  {
   "attachments": {},
   "cell_type": "markdown",
   "id": "493f9a86-e503-4470-b4c1-d726b1fc9ded",
   "metadata": {},
   "source": [
    "### Funkcja pivot\n",
    "\n",
    "Pivot() służy do wykonania tabeli krzyżowej. Trzeba jej używać w połączeniu z funkcją groupBy()."
   ]
  },
  {
   "cell_type": "code",
   "execution_count": 35,
   "id": "e5188f1f-5f68-48db-aaf4-b4af15cb05a8",
   "metadata": {},
   "outputs": [
    {
     "name": "stdout",
     "output_type": "stream",
     "text": [
      "+-----------+------+--------+\n",
      "|  room_type|Queens|Brooklyn|\n",
      "+-----------+------+--------+\n",
      "|         51|  null|    null|\n",
      "|        205|  null|    null|\n",
      "|         54|  null|    null|\n",
      "|        200|  null|    null|\n",
      "|        279|  null|    null|\n",
      "|        138|  null|    null|\n",
      "|         69|  null|    null|\n",
      "|         42|  null|    null|\n",
      "|Shared room|   198|     413|\n",
      "|  -73.95777|  null|    null|\n",
      "+-----------+------+--------+\n",
      "only showing top 10 rows\n",
      "\n"
     ]
    }
   ],
   "source": [
    "# Pivot Function\n",
    "# pivot(pivot_col, values=None)\n",
    "df.groupBy(\"room_type\").pivot(\"neighbourhood_group\", [\"Queens\", \"Brooklyn\"]).count().show(10)"
   ]
  },
  {
   "cell_type": "code",
   "execution_count": null,
   "id": "7fc4688a-acfb-408c-a991-81a6bfd5fcb2",
   "metadata": {},
   "outputs": [],
   "source": [
    "# Wynik, w razie potrzeby, można też przefiltrować\n",
    "# Powyżej uzyskaliśmy niewiele mówiący wynik\n",
    "# Spróbujmy wybrać tylko \"Shared room\"\n",
    "df.filter(\"room_type='Shared room'\").groupBy(\"room_type\").pivot(\"neighbourhood_group\", [\"Queens\", \"Brooklyn\"]).count().show(100)"
   ]
  },
  {
   "attachments": {},
   "cell_type": "markdown",
   "id": "d4e3d777-acf9-40bd-9144-a9d8b452f608",
   "metadata": {},
   "source": [
    "### Przykład połączenia wszystkich trzech:\n",
    "\n",
    "Możliwe jest także połączenie wszystkich trzech metod w jednym zapytaniu: GroupBy, Pivot and Agg. Robi się to w ten sposób:"
   ]
  },
  {
   "cell_type": "code",
   "execution_count": 44,
   "id": "776021f5-5182-422b-ae47-7cbaba48ad2c",
   "metadata": {},
   "outputs": [
    {
     "data": {
      "text/html": [
       "<div>\n",
       "<style scoped>\n",
       "    .dataframe tbody tr th:only-of-type {\n",
       "        vertical-align: middle;\n",
       "    }\n",
       "\n",
       "    .dataframe tbody tr th {\n",
       "        vertical-align: top;\n",
       "    }\n",
       "\n",
       "    .dataframe thead th {\n",
       "        text-align: right;\n",
       "    }\n",
       "</style>\n",
       "<table border=\"1\" class=\"dataframe\">\n",
       "  <thead>\n",
       "    <tr style=\"text-align: right;\">\n",
       "      <th></th>\n",
       "      <th>neighbourhood</th>\n",
       "      <th>Queens_Min Price</th>\n",
       "      <th>Queens_Max Price</th>\n",
       "      <th>Brooklyn_Min Price</th>\n",
       "      <th>Brooklyn_Max Price</th>\n",
       "    </tr>\n",
       "  </thead>\n",
       "  <tbody>\n",
       "    <tr>\n",
       "      <td>0</td>\n",
       "      <td>Corona</td>\n",
       "      <td>23.0</td>\n",
       "      <td>359.0</td>\n",
       "      <td>NaN</td>\n",
       "      <td>NaN</td>\n",
       "    </tr>\n",
       "    <tr>\n",
       "      <td>1</td>\n",
       "      <td>Prince's Bay</td>\n",
       "      <td>NaN</td>\n",
       "      <td>NaN</td>\n",
       "      <td>NaN</td>\n",
       "      <td>NaN</td>\n",
       "    </tr>\n",
       "    <tr>\n",
       "      <td>2</td>\n",
       "      <td>Richmondtown</td>\n",
       "      <td>NaN</td>\n",
       "      <td>NaN</td>\n",
       "      <td>NaN</td>\n",
       "      <td>NaN</td>\n",
       "    </tr>\n",
       "    <tr>\n",
       "      <td>3</td>\n",
       "      <td>Mill Basin</td>\n",
       "      <td>NaN</td>\n",
       "      <td>NaN</td>\n",
       "      <td>85.0</td>\n",
       "      <td>299.0</td>\n",
       "    </tr>\n",
       "    <tr>\n",
       "      <td>4</td>\n",
       "      <td>Westerleigh</td>\n",
       "      <td>NaN</td>\n",
       "      <td>NaN</td>\n",
       "      <td>NaN</td>\n",
       "      <td>NaN</td>\n",
       "    </tr>\n",
       "    <tr>\n",
       "      <td>...</td>\n",
       "      <td>...</td>\n",
       "      <td>...</td>\n",
       "      <td>...</td>\n",
       "      <td>...</td>\n",
       "      <td>...</td>\n",
       "    </tr>\n",
       "    <tr>\n",
       "      <td>378</td>\n",
       "      <td>40.69383</td>\n",
       "      <td>NaN</td>\n",
       "      <td>NaN</td>\n",
       "      <td>NaN</td>\n",
       "      <td>NaN</td>\n",
       "    </tr>\n",
       "    <tr>\n",
       "      <td>379</td>\n",
       "      <td>Morningside Heights</td>\n",
       "      <td>NaN</td>\n",
       "      <td>NaN</td>\n",
       "      <td>NaN</td>\n",
       "      <td>NaN</td>\n",
       "    </tr>\n",
       "    <tr>\n",
       "      <td>380</td>\n",
       "      <td>Greenpoint</td>\n",
       "      <td>NaN</td>\n",
       "      <td>NaN</td>\n",
       "      <td>0.0</td>\n",
       "      <td>10000.0</td>\n",
       "    </tr>\n",
       "    <tr>\n",
       "      <td>381</td>\n",
       "      <td>Elmhurst</td>\n",
       "      <td>15.0</td>\n",
       "      <td>443.0</td>\n",
       "      <td>NaN</td>\n",
       "      <td>NaN</td>\n",
       "    </tr>\n",
       "    <tr>\n",
       "      <td>382</td>\n",
       "      <td>Little Italy</td>\n",
       "      <td>NaN</td>\n",
       "      <td>NaN</td>\n",
       "      <td>NaN</td>\n",
       "      <td>NaN</td>\n",
       "    </tr>\n",
       "  </tbody>\n",
       "</table>\n",
       "<p>383 rows × 5 columns</p>\n",
       "</div>"
      ],
      "text/plain": [
       "           neighbourhood  Queens_Min Price  Queens_Max Price  \\\n",
       "0                 Corona              23.0             359.0   \n",
       "1           Prince's Bay               NaN               NaN   \n",
       "2           Richmondtown               NaN               NaN   \n",
       "3             Mill Basin               NaN               NaN   \n",
       "4            Westerleigh               NaN               NaN   \n",
       "..                   ...               ...               ...   \n",
       "378             40.69383               NaN               NaN   \n",
       "379  Morningside Heights               NaN               NaN   \n",
       "380           Greenpoint               NaN               NaN   \n",
       "381             Elmhurst              15.0             443.0   \n",
       "382         Little Italy               NaN               NaN   \n",
       "\n",
       "     Brooklyn_Min Price  Brooklyn_Max Price  \n",
       "0                   NaN                 NaN  \n",
       "1                   NaN                 NaN  \n",
       "2                   NaN                 NaN  \n",
       "3                  85.0               299.0  \n",
       "4                   NaN                 NaN  \n",
       "..                  ...                 ...  \n",
       "378                 NaN                 NaN  \n",
       "379                 NaN                 NaN  \n",
       "380                 0.0             10000.0  \n",
       "381                 NaN                 NaN  \n",
       "382                 NaN                 NaN  \n",
       "\n",
       "[383 rows x 5 columns]"
      ]
     },
     "execution_count": 44,
     "metadata": {},
     "output_type": "execute_result"
    }
   ],
   "source": [
    "# from pyspark.sql.functions import *\n",
    "df.groupBy(\"neighbourhood\").pivot(\"neighbourhood_group\", [\"Queens\", \"Brooklyn\"]).agg(min(df.price).alias(\"Min Price\"),max(df.price).alias(\"Max Price\")).toPandas()#.show()\n",
    "# UWAGA: toPandas() używamy tylko jeżeli spodziewamy się otrzymać relatywnie mały zbiór wynikowy\n",
    "# Wszystkie dane ładowane są do pamięci drivera:"
   ]
  }
 ],
 "metadata": {
  "kernelspec": {
   "display_name": "base",
   "language": "python",
   "name": "python3"
  },
  "language_info": {
   "codemirror_mode": {
    "name": "ipython",
    "version": 3
   },
   "file_extension": ".py",
   "mimetype": "text/x-python",
   "name": "python",
   "nbconvert_exporter": "python",
   "pygments_lexer": "ipython3",
   "version": "3.8.12"
  },
  "vscode": {
   "interpreter": {
    "hash": "f4ebc63f2cded5a5017438174b69eeaea6fe35f706fbd25d3a5f5d6de9a88d22"
   }
  }
 },
 "nbformat": 4,
 "nbformat_minor": 5
}
